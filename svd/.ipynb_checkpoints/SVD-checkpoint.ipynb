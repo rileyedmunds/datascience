{
 "cells": [
  {
   "cell_type": "code",
   "execution_count": null,
   "metadata": {
    "collapsed": true
   },
   "outputs": [],
   "source": [
    "#SVD\n",
    "\n",
    "'''\n",
    "Singular Value Decomposition\n",
    "\n",
    "uses: \n",
    "-get rid of redudant data (dimensionality reduction)\n",
    "-speed up training on redundant data by removing redundancy\n",
    "\n",
    "details:\n",
    "-eigenvalues tell you which data is important and which is redundant\n",
    "-going from n features to k features, where each k is a linear combinarion of some of the n features\n",
    "-similar in use to PCA\n",
    "-\"things should be made as simple as possible, but not simpler\"\n",
    "-leverages eigendecomposition to find 'principal component vectors'\n",
    "-eigenvalues are the 'singular values' of the matrix\n",
    "-think of it as breakdown into scaling and rotation \n",
    "\n",
    "\n",
    "math:\n",
    "> start with matrix A (data)\n",
    "> find V,S, U such that A=U*sum(*V.T) (U are eigenvectors, V are eigenvalues)\n",
    "> mask off eigenvalues below some threshold, and then use the remaining eigenvalues to recompose the image, now in lower dimension!\n",
    "\n",
    "\n",
    "\n",
    "LIN ALG: -recall eigenvalue is roughly the \"magnitude\" of an eigenvector, \n",
    "    which tells us on which axis the transormation \n",
    "    described by the matrix hinges. So eigenvectors tell us how strongly\n",
    "    the transorfmation hinges in the direction given by the eigenvector.\n",
    "\n",
    "\n",
    "'''"
   ]
  }
 ],
 "metadata": {
  "anaconda-cloud": {},
  "kernelspec": {
   "display_name": "Python [default]",
   "language": "python",
   "name": "python3"
  },
  "language_info": {
   "codemirror_mode": {
    "name": "ipython",
    "version": 3
   },
   "file_extension": ".py",
   "mimetype": "text/x-python",
   "name": "python",
   "nbconvert_exporter": "python",
   "pygments_lexer": "ipython3",
   "version": "3.5.2"
  }
 },
 "nbformat": 4,
 "nbformat_minor": 1
}
