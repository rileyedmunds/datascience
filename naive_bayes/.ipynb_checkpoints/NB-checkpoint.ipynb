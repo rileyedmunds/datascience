{
 "cells": [
  {
   "cell_type": "code",
   "execution_count": 48,
   "metadata": {
    "collapsed": false
   },
   "outputs": [
    {
     "data": {
      "text/plain": [
       "\"\\n    We have several data... and want to classify them (multiclass)\\n\\n    Using bayes' rule, can find out how often something that is red is either a rabbit or a ball\\n        -know both color and size\\n        -assume color and size unrelated to make math easier! (features are independent)\\n\\n    P(A|f1) = [P(f1|A) * P(A)] / P(f1)\\n    P(A|feature 1, feature 2) = [P(feature 1 | A) * P(feature 2 | A) * P(A) ] / [P(f1) * P(f2)]\\n        -this is the probability of belonging to class A given features 1 and 2\\n        \\n    -Imagine expanding this calculation to n features! \\n\""
      ]
     },
     "execution_count": 48,
     "metadata": {},
     "output_type": "execute_result"
    }
   ],
   "source": [
    "#Naive Bayes\n",
    "\n",
    "'''\n",
    "    We have several data... and want to classify them (multiclass)\n",
    "\n",
    "    Using bayes' rule, can find out how often something that is red is either a rabbit or a ball\n",
    "        -know both color and size\n",
    "        -assume color and size unrelated to make math easier! (features are independent)\n",
    "\n",
    "    P(A|f1) = [P(f1|A) * P(A)] / P(f1)\n",
    "    P(A|feature 1, feature 2) = [P(feature 1 | A) * P(feature 2 | A) * P(A) ] / [P(f1) * P(f2)]\n",
    "        -this is the probability of belonging to class A given features 1 and 2\n",
    "        \n",
    "    -Imagine expanding this calculation to n features! \n",
    "'''"
   ]
  },
  {
   "cell_type": "code",
   "execution_count": 49,
   "metadata": {
    "collapsed": false
   },
   "outputs": [],
   "source": [
    "####################\n",
    "#### NAIVE BAYES ###\n",
    "####################\n",
    "\n",
    "#Abstracting with sklearn\n",
    "from sklearn import datasets\n",
    "from sklearn.naive_bayes import GaussianNB\n",
    "from sklearn import metrics"
   ]
  },
  {
   "cell_type": "code",
   "execution_count": 50,
   "metadata": {
    "collapsed": true
   },
   "outputs": [],
   "source": [
    "iris = datasets.load_iris()"
   ]
  },
  {
   "cell_type": "code",
   "execution_count": 51,
   "metadata": {
    "collapsed": false
   },
   "outputs": [],
   "source": [
    "#Gaussian Naive Bayes assumes data has a Normal distribution\n",
    "gnb = GaussianNB()\n",
    "y_pred = gnb.fit(X=iris.data, y=iris.target).predict(iris.data)"
   ]
  },
  {
   "cell_type": "code",
   "execution_count": 52,
   "metadata": {
    "collapsed": false
   },
   "outputs": [
    {
     "name": "stdout",
     "output_type": "stream",
     "text": [
      "Number of mislabeled points out of a total 150 points : 6\n"
     ]
    }
   ],
   "source": [
    "print((\"Number of mislabeled points out of a total %d points : %d\"\n",
    "...       % (iris.data.shape[0],(iris.target != y_pred).sum())))"
   ]
  },
  {
   "cell_type": "code",
   "execution_count": 53,
   "metadata": {
    "collapsed": false
   },
   "outputs": [
    {
     "name": "stdout",
     "output_type": "stream",
     "text": [
      "             precision    recall  f1-score   support\n",
      "\n",
      "          0       1.00      1.00      1.00        50\n",
      "          1       0.94      0.94      0.94        50\n",
      "          2       0.94      0.94      0.94        50\n",
      "\n",
      "avg / total       0.96      0.96      0.96       150\n",
      "\n",
      "[[50  0  0]\n",
      " [ 0 47  3]\n",
      " [ 0  3 47]]\n"
     ]
    }
   ],
   "source": [
    "#more detailed report\n",
    "expected = iris.target\n",
    "predicted = gnb.predict(iris.data)\n",
    "# summarize the fit of the model\n",
    "print(metrics.classification_report(expected, predicted))\n",
    "print(metrics.confusion_matrix(expected, predicted))"
   ]
  }
 ],
 "metadata": {
  "anaconda-cloud": {},
  "kernelspec": {
   "display_name": "Python [default]",
   "language": "python",
   "name": "python3"
  },
  "language_info": {
   "codemirror_mode": {
    "name": "ipython",
    "version": 3
   },
   "file_extension": ".py",
   "mimetype": "text/x-python",
   "name": "python",
   "nbconvert_exporter": "python",
   "pygments_lexer": "ipython3",
   "version": "3.5.2"
  }
 },
 "nbformat": 4,
 "nbformat_minor": 1
}
