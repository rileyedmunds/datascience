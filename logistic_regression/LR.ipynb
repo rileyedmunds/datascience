{
 "cells": [
  {
   "cell_type": "code",
   "execution_count": 2,
   "metadata": {
    "collapsed": true
   },
   "outputs": [
    {
     "data": {
      "text/plain": [
       "'\\nThis is simply a _____ regression with \"logistic.\" AKA regression (fitting a function to data)\\nusing the logistic (sigmoid function as the function we\\'re fitting with)\\n\\nLogistic function:\\n 1/(1+e^(-z))\\n \\n Simply uses this decision boundary that is nonlinear!\\n \\n \\nIt gets fit by moving it around so that it takes on the position of the best dividing line between data points in the space the data lives in (R^n)\\n\\n\\nTypically, logistic regression is done on binary classification problems. \\nFor multiclass problems, we can use multinomial regression (multiple classes)\\n\\n\\n\\nMultinomial regression:\\n    Overlays many logistic regression lines, and diff categories are the diff data points therein.\\n    Multiclass classification or regression!\\n\\nNeural networks:\\n    Simply some stacked logistic regression models with optimizations!\\n    \\n'"
      ]
     },
     "execution_count": 2,
     "metadata": {},
     "output_type": "execute_result"
    }
   ],
   "source": [
    "#Logistic regression\n",
    "\n",
    "'''\n",
    "This is simply a _____ regression with \"logistic.\" AKA regression (fitting a function to data)\n",
    "using the logistic (sigmoid function as the function we're fitting with)\n",
    "\n",
    "Logistic function:\n",
    " 1/(1+e^(-z))\n",
    " \n",
    " Simply uses this decision boundary that is nonlinear!\n",
    " \n",
    " \n",
    "It gets fit by moving it around so that it takes on the position of the best dividing line between data points in the space the data lives in (R^n)\n",
    "\n",
    "\n",
    "Typically, logistic regression is done on binary classification problems. \n",
    "For multiclass problems, we can use multinomial regression (multiple classes)\n",
    "\n",
    "\n",
    "\n",
    "Multinomial regression:\n",
    "    Overlays many logistic regression lines, and diff categories are the diff data points therein.\n",
    "    Multiclass classification or regression!\n",
    "\n",
    "Neural networks:\n",
    "    Simply some stacked logistic regression models with optimizations!\n",
    "    \n",
    "'''\n",
    "\n"
   ]
  }
 ],
 "metadata": {
  "anaconda-cloud": {},
  "kernelspec": {
   "display_name": "Python [default]",
   "language": "python",
   "name": "python3"
  },
  "language_info": {
   "codemirror_mode": {
    "name": "ipython",
    "version": 3
   },
   "file_extension": ".py",
   "mimetype": "text/x-python",
   "name": "python",
   "nbconvert_exporter": "python",
   "pygments_lexer": "ipython3",
   "version": "3.5.2"
  }
 },
 "nbformat": 4,
 "nbformat_minor": 1
}
