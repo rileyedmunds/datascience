{
 "cells": [
  {
   "cell_type": "code",
   "execution_count": null,
   "metadata": {
    "collapsed": false
   },
   "outputs": [],
   "source": [
    "#Supervised learning algorithm\n",
    "\n",
    "'''\n",
    "Q: What class does the new data point belong to?\n",
    "\n",
    "Ans: \n",
    "Check its distance from labeled data in R^n \n",
    "and using distance from other points, find the closest k points,\n",
    "then classify it the same way those are classified.\n",
    "\n",
    "If they happen to have diff classes, we can do two things:\n",
    "    1. majority vote\n",
    "    2. majority vote weighted by distance to the sample point\n",
    "\n",
    "\n",
    "Distance metric is very IMPORTANT. Can make or break the algorithm..\n",
    "    Euclidian distance: Sqrt{sum{(x-y)^2}}\n",
    "    Manhattan distance:  sum{|x-y|}\n",
    "For discrete values: make them continuous. Example, for text use hamming distance (how many positions they differ at)\n",
    "\n",
    "'''"
   ]
  },
  {
   "cell_type": "code",
   "execution_count": null,
   "metadata": {
    "collapsed": false
   },
   "outputs": [],
   "source": [
    "from __future__ import print_function\n",
    "\n",
    "import numpy as np\n",
    "import tensorflow as tf\n",
    "\n",
    "# Import MNIST data\n",
    "from tensorflow.examples.tutorials.mnist import input_data\n",
    "\n",
    "K = 4\n",
    "mnist = input_data.read_data_sets(\"/tmp/data/\", one_hot=True)"
   ]
  },
  {
   "cell_type": "code",
   "execution_count": null,
   "metadata": {
    "collapsed": true
   },
   "outputs": [],
   "source": [
    "# In this example, we limit mnist data\n",
    "Xtr, Ytr = mnist.train.next_batch(55000)  # whole training set\n",
    "Xte, Yte = mnist.test.next_batch(10000)  # whole test set\n",
    "\n",
    "# tf Graph Input\n",
    "xtr = tf.placeholder(\"float\", [None, 784])\n",
    "ytr = tf.placeholder(\"float\", [None, 10])\n",
    "xte = tf.placeholder(\"float\", [784])"
   ]
  },
  {
   "cell_type": "code",
   "execution_count": null,
   "metadata": {
    "collapsed": true
   },
   "outputs": [],
   "source": [
    "# Euclidean Distance\n",
    "distance = tf.neg(tf.sqrt(tf.reduce_sum(tf.square(tf.sub(xtr, xte)), reduction_indices=1)))\n",
    "# Prediction: Get min distance neighbors\n",
    "values, indices = tf.nn.top_k(distance, k=K, sorted=False)\n",
    "\n",
    "nearest_neighbors = []\n",
    "for i in range(K):\n",
    "    nearest_neighbors.append(tf.argmax(ytr[indices[i]], 0))\n",
    "\n",
    "neighbors_tensor = tf.pack(nearest_neighbors)\n",
    "y, idx, count = tf.unique_with_counts(neighbors_tensor)\n",
    "pred = tf.slice(y, begin=[tf.argmax(count, 0)], size=tf.constant([1], dtype=tf.int64))[0]\n",
    "\n",
    "accuracy = 0."
   ]
  },
  {
   "cell_type": "code",
   "execution_count": null,
   "metadata": {
    "collapsed": false
   },
   "outputs": [],
   "source": [
    "# Initializing the variables\n",
    "init = tf.initialize_all_variables()\n",
    "\n",
    "# Launch the graph\n",
    "with tf.Session() as sess:\n",
    "    sess.run(init)\n",
    "\n",
    "    # loop over test data\n",
    "    for i in range(len(Xte)):\n",
    "        # Get nearest neighbor\n",
    "        nn_index = sess.run(pred, feed_dict={xtr: Xtr, ytr: Ytr, xte: Xte[i, :]})\n",
    "        # Get nearest neighbor class label and compare it to its true label\n",
    "        print(\"Test\", i, \"Prediction:\", nn_index,\n",
    "             \"True Class:\", np.argmax(Yte[i]))\n",
    "        #Calculate accuracy\n",
    "        if nn_index == np.argmax(Yte[i]):\n",
    "            accuracy += 1. / len(Xte)\n",
    "    print(\"Done!\")\n",
    "    print(\"Accuracy:\", accuracy)"
   ]
  },
  {
   "cell_type": "code",
   "execution_count": null,
   "metadata": {
    "collapsed": true
   },
   "outputs": [],
   "source": [
    "import matplotlib.pyplot as plt"
   ]
  }
 ],
 "metadata": {
  "anaconda-cloud": {},
  "kernelspec": {
   "display_name": "Python [default]",
   "language": "python",
   "name": "python3"
  },
  "language_info": {
   "codemirror_mode": {
    "name": "ipython",
    "version": 3
   },
   "file_extension": ".py",
   "mimetype": "text/x-python",
   "name": "python",
   "nbconvert_exporter": "python",
   "pygments_lexer": "ipython3",
   "version": "3.5.2"
  }
 },
 "nbformat": 4,
 "nbformat_minor": 1
}
